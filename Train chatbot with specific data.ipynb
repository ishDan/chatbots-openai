{
 "cells": [
  {
   "cell_type": "code",
   "execution_count": 54,
   "metadata": {
    "executionInfo": {
     "elapsed": 178,
     "status": "ok",
     "timestamp": 1695497351231,
     "user": {
      "displayName": "Daniel Spector",
      "userId": "06544427552516562113"
     },
     "user_tz": 240
    },
    "id": "0ZGNWMhPWIE9"
   },
   "outputs": [],
   "source": [
    "# !pip install openai -q\n",
    "# !pip install langchain -q\n",
    "# !pip install chromadb -q\n",
    "# !pip install tiktoken -q\n",
    "# !pip install pypdf -q\n",
    "# !pip install unstructured[local-inference] -q\n",
    "# !pip install gradio -q"
   ]
  },
  {
   "cell_type": "code",
   "execution_count": 50,
   "metadata": {
    "executionInfo": {
     "elapsed": 3,
     "status": "ok",
     "timestamp": 1695496892055,
     "user": {
      "displayName": "Daniel Spector",
      "userId": "06544427552516562113"
     },
     "user_tz": 240
    },
    "id": "z2MgxspWWDid"
   },
   "outputs": [],
   "source": [
    "from langchain.embeddings.openai import OpenAIEmbeddings\n",
    "from langchain.vectorstores import Chroma\n",
    "from langchain.text_splitter import CharacterTextSplitter\n",
    "from langchain.chains import ConversationalRetrievalChain\n",
    "\n",
    "import os\n",
    "os.environ[\"OPENAI_API_KEY\"] = \"Your API KEY\"\n",
    "\n",
    "from langchain.chat_models import ChatOpenAI\n",
    "llm = ChatOpenAI(temperature=0,model_name=\"gpt-4\")"
   ]
  },
  {
   "cell_type": "code",
   "execution_count": 31,
   "metadata": {
    "colab": {
     "base_uri": "https://localhost:8080/"
    },
    "executionInfo": {
     "elapsed": 161,
     "status": "ok",
     "timestamp": 1695495449249,
     "user": {
      "displayName": "Daniel Spector",
      "userId": "06544427552516562113"
     },
     "user_tz": 240
    },
    "id": "_cm1HeZZZx0h",
    "outputId": "78845de5-d89a-4cc0-9988-f4a8b38987d0"
   },
   "outputs": [
    {
     "name": "stdout",
     "output_type": "stream",
     "text": [
      "Files in '/content/sample_data/Files to train': ['ADHD.pdf']\n"
     ]
    }
   ],
   "source": [
    "import os\n",
    "\n",
    "cwd = os.getcwd()  # Get the current working directory (cwd)\n",
    "files = os.listdir(cwd)  # Get all the files in that directory\n",
    "print(\"Files in %r: %s\" % (cwd, files))"
   ]
  },
  {
   "cell_type": "code",
   "execution_count": null,
   "metadata": {
    "id": "v8cygnCrZx7P"
   },
   "outputs": [],
   "source": []
  },
  {
   "cell_type": "code",
   "execution_count": 28,
   "metadata": {
    "executionInfo": {
     "elapsed": 151,
     "status": "ok",
     "timestamp": 1695495395252,
     "user": {
      "displayName": "Daniel Spector",
      "userId": "06544427552516562113"
     },
     "user_tz": 240
    },
    "id": "F0w06lsDX7X3"
   },
   "outputs": [],
   "source": [
    "os.chdir(\"content/sample_data/Files to train/\")"
   ]
  },
  {
   "cell_type": "code",
   "execution_count": 35,
   "metadata": {
    "colab": {
     "base_uri": "https://localhost:8080/"
    },
    "executionInfo": {
     "elapsed": 6605,
     "status": "ok",
     "timestamp": 1695495534537,
     "user": {
      "displayName": "Daniel Spector",
      "userId": "06544427552516562113"
     },
     "user_tz": 240
    },
    "id": "efQxiTWqWFfF",
    "outputId": "c6eb548b-72f5-4fb9-f6d7-a2aea23cb7b6"
   },
   "outputs": [
    {
     "name": "stderr",
     "output_type": "stream",
     "text": [
      "[nltk_data] Downloading package punkt to /root/nltk_data...\n",
      "[nltk_data]   Unzipping tokenizers/punkt.zip.\n",
      "[nltk_data] Downloading package averaged_perceptron_tagger to\n",
      "[nltk_data]     /root/nltk_data...\n",
      "[nltk_data]   Unzipping taggers/averaged_perceptron_tagger.zip.\n"
     ]
    },
    {
     "name": "stdout",
     "output_type": "stream",
     "text": [
      "Total number of documents: 1\n"
     ]
    }
   ],
   "source": [
    "from langchain.document_loaders import DirectoryLoader\n",
    "\n",
    "pdf_loader = DirectoryLoader('', glob=\"**/*.pdf\")\n",
    "\n",
    "loaders = [pdf_loader]\n",
    "documents = []\n",
    "for loader in loaders:\n",
    "    documents.extend(loader.load())\n",
    "\n",
    "print(f\"Total number of documents: {len(documents)}\")\n"
   ]
  },
  {
   "cell_type": "code",
   "execution_count": 36,
   "metadata": {
    "executionInfo": {
     "elapsed": 247,
     "status": "ok",
     "timestamp": 1695495564019,
     "user": {
      "displayName": "Daniel Spector",
      "userId": "06544427552516562113"
     },
     "user_tz": 240
    },
    "id": "tjr9k66CWxAE"
   },
   "outputs": [],
   "source": [
    "text_splitter = CharacterTextSplitter(chunk_size=2000, chunk_overlap=200)\n",
    "documents = text_splitter.split_documents(documents)"
   ]
  },
  {
   "cell_type": "code",
   "execution_count": 51,
   "metadata": {
    "executionInfo": {
     "elapsed": 1420,
     "status": "ok",
     "timestamp": 1695496896260,
     "user": {
      "displayName": "Daniel Spector",
      "userId": "06544427552516562113"
     },
     "user_tz": 240
    },
    "id": "4N3u-bOJWxFW"
   },
   "outputs": [],
   "source": [
    "embeddings = OpenAIEmbeddings()\n",
    "vectorstore = Chroma.from_documents(documents, embeddings)"
   ]
  },
  {
   "cell_type": "code",
   "execution_count": 52,
   "metadata": {
    "executionInfo": {
     "elapsed": 2,
     "status": "ok",
     "timestamp": 1695496897507,
     "user": {
      "displayName": "Daniel Spector",
      "userId": "06544427552516562113"
     },
     "user_tz": 240
    },
    "id": "JqDQ6cr6WxIT"
   },
   "outputs": [],
   "source": [
    "qa = ConversationalRetrievalChain.from_llm(llm, vectorstore.as_retriever(), return_source_documents=True)"
   ]
  },
  {
   "cell_type": "code",
   "execution_count": 53,
   "metadata": {
    "colab": {
     "base_uri": "https://localhost:8080/",
     "height": 763
    },
    "executionInfo": {
     "elapsed": 289449,
     "status": "ok",
     "timestamp": 1695497187838,
     "user": {
      "displayName": "Daniel Spector",
      "userId": "06544427552516562113"
     },
     "user_tz": 240
    },
    "id": "Kw5AOz3ZWxKv",
    "outputId": "77ab41de-9ec1-49f3-fd64-73649201abe2"
   },
   "outputs": [
    {
     "name": "stdout",
     "output_type": "stream",
     "text": [
      "Colab notebook detected. This cell will run indefinitely so that you can see errors and logs. To turn off, set debug=False in launch().\n",
      "Note: opening Chrome Inspector may crash demo inside Colab notebooks.\n",
      "\n",
      "To create a public link, set `share=True` in `launch()`.\n"
     ]
    },
    {
     "data": {
      "application/javascript": [
       "(async (port, path, width, height, cache, element) => {\n",
       "                        if (!google.colab.kernel.accessAllowed && !cache) {\n",
       "                            return;\n",
       "                        }\n",
       "                        element.appendChild(document.createTextNode(''));\n",
       "                        const url = await google.colab.kernel.proxyPort(port, {cache});\n",
       "\n",
       "                        const external_link = document.createElement('div');\n",
       "                        external_link.innerHTML = `\n",
       "                            <div style=\"font-family: monospace; margin-bottom: 0.5rem\">\n",
       "                                Running on <a href=${new URL(path, url).toString()} target=\"_blank\">\n",
       "                                    https://localhost:${port}${path}\n",
       "                                </a>\n",
       "                            </div>\n",
       "                        `;\n",
       "                        element.appendChild(external_link);\n",
       "\n",
       "                        const iframe = document.createElement('iframe');\n",
       "                        iframe.src = new URL(path, url).toString();\n",
       "                        iframe.height = height;\n",
       "                        iframe.allow = \"autoplay; camera; microphone; clipboard-read; clipboard-write;\"\n",
       "                        iframe.width = width;\n",
       "                        iframe.style.border = 0;\n",
       "                        element.appendChild(iframe);\n",
       "                    })(7860, \"/\", \"100%\", 500, false, window.element)"
      ],
      "text/plain": [
       "<IPython.core.display.Javascript object>"
      ]
     },
     "metadata": {},
     "output_type": "display_data"
    },
    {
     "name": "stdout",
     "output_type": "stream",
     "text": [
      "User query: hi\n",
      "Chat history: []\n",
      "Updated chat history: [('hi', 'Hello! How can I assist you today?')]\n",
      "User query: What is ADHD?\n",
      "Chat history: [['hi', 'Hello! How can I assist you today?']]\n",
      "Updated chat history: [['hi', 'Hello! How can I assist you today?'], ('What is ADHD?', 'Attention deficit hyperactivity disorder (ADHD) is a neurodevelopmental disorder. It is often recognized as a childhood disorder, but symptoms can persist into adulthood. It is common for adults with ADHD to experience high rates of co-morbidities, meaning they may have one or more additional psychiatric disorders. In some cases, these other disorders can overshadow the ADHD, causing it to be overlooked or undiagnosed.')]\n",
      "Keyboard interruption in main thread... closing server.\n"
     ]
    }
   ],
   "source": [
    "import gradio as gr\n",
    "# Define chat interface\n",
    "with gr.Blocks() as demo:\n",
    "    chatbot = gr.Chatbot()\n",
    "    msg = gr.Textbox()\n",
    "    clear = gr.Button(\"Clear\")\n",
    "    chat_history = []\n",
    "\n",
    "    def user(query, chat_history):\n",
    "        print(\"User query:\", query)\n",
    "        print(\"Chat history:\", chat_history)\n",
    "\n",
    "        # Convert chat history to list of tuples\n",
    "        chat_history_tuples = []\n",
    "        for message in chat_history:\n",
    "            chat_history_tuples.append((message[0], message[1]))\n",
    "\n",
    "        # Get result from QA chain\n",
    "        result = qa({\"question\": query, \"chat_history\": chat_history_tuples})\n",
    "\n",
    "        # Append user message and response to chat history\n",
    "        chat_history.append((query, result[\"answer\"]))\n",
    "        print(\"Updated chat history:\", chat_history)\n",
    "\n",
    "        return gr.update(value=\"\"), chat_history\n",
    "\n",
    "\n",
    "    msg.submit(user, [msg, chatbot], [msg, chatbot], queue=False)\n",
    "    clear.click(lambda: None, None, chatbot, queue=False)\n",
    "\n",
    "if __name__ == \"__main__\":\n",
    "    demo.launch(debug=True)\n"
   ]
  },
  {
   "cell_type": "code",
   "execution_count": null,
   "metadata": {
    "id": "aSWEbpwqdbej"
   },
   "outputs": [],
   "source": []
  }
 ],
 "metadata": {
  "colab": {
   "authorship_tag": "ABX9TyOeCPUsROeCWPESJGjNEkgf",
   "provenance": []
  },
  "kernelspec": {
   "display_name": "Python 3 (ipykernel)",
   "language": "python",
   "name": "python3"
  },
  "language_info": {
   "codemirror_mode": {
    "name": "ipython",
    "version": 3
   },
   "file_extension": ".py",
   "mimetype": "text/x-python",
   "name": "python",
   "nbconvert_exporter": "python",
   "pygments_lexer": "ipython3",
   "version": "3.10.0"
  }
 },
 "nbformat": 4,
 "nbformat_minor": 4
}
